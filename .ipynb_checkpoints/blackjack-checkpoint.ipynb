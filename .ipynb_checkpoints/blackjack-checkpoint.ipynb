{
 "cells": [
  {
   "cell_type": "markdown",
   "metadata": {},
   "source": [
    "human player, computer dealer\n",
    "human has a bank account\n",
    "human place a bet\n",
    "\n",
    "dealer start with 1 card face up and 1 card face down\n",
    "player start with 2 cards face up\n",
    "\n",
    "player goes first:\n",
    "player: try to get to a total value of 21\n",
    "over21: bust\n",
    "\n",
    "Hit: receive another card from deck\n",
    "stay: stop receiving card\n",
    "\n",
    "computer's turn:\n",
    "if player under 21, dealer hits until either beat the player or busts(over 21)"
   ]
  }
 ],
 "metadata": {
  "kernelspec": {
   "display_name": "Python 3",
   "language": "python",
   "name": "python3"
  },
  "language_info": {
   "codemirror_mode": {
    "name": "ipython",
    "version": 3
   },
   "file_extension": ".py",
   "mimetype": "text/x-python",
   "name": "python",
   "nbconvert_exporter": "python",
   "pygments_lexer": "ipython3",
   "version": "3.6.4"
  }
 },
 "nbformat": 4,
 "nbformat_minor": 2
}
